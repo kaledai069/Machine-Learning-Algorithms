{
 "cells": [
  {
   "cell_type": "code",
   "execution_count": 1,
   "id": "167ed7e9",
   "metadata": {},
   "outputs": [],
   "source": [
    "import pandas as pd\n",
    "df = pd.read_csv(\"homeprices.csv\")"
   ]
  },
  {
   "cell_type": "code",
   "execution_count": 4,
   "id": "dffc53ca",
   "metadata": {},
   "outputs": [],
   "source": [
    "dummies = pd.get_dummies(df.town)"
   ]
  },
  {
   "cell_type": "code",
   "execution_count": 14,
   "id": "40a050ef",
   "metadata": {},
   "outputs": [],
   "source": [
    "merged = pd.concat([df, dummies], axis = 'columns')\n",
    "merged.drop(['town', 'west windsor'], axis = 'columns', inplace = True)"
   ]
  },
  {
   "cell_type": "code",
   "execution_count": 18,
   "id": "02580432",
   "metadata": {},
   "outputs": [],
   "source": [
    "from sklearn.linear_model import LinearRegression\n",
    "X = merged.drop(['price'], axis = 'columns')\n",
    "y = merged.price\n",
    "reg_model = LinearRegression().fit(X.values, y.values)"
   ]
  },
  {
   "cell_type": "code",
   "execution_count": 19,
   "id": "7fa9239a",
   "metadata": {},
   "outputs": [
    {
     "data": {
      "text/plain": [
       "array([590775.63964739])"
      ]
     },
     "execution_count": 19,
     "metadata": {},
     "output_type": "execute_result"
    }
   ],
   "source": [
    "reg_model.predict([[2800, 0, 1]])"
   ]
  },
  {
   "cell_type": "code",
   "execution_count": 22,
   "id": "6e79eabc",
   "metadata": {},
   "outputs": [
    {
     "data": {
      "text/plain": [
       "0.9573929037221873"
      ]
     },
     "execution_count": 22,
     "metadata": {},
     "output_type": "execute_result"
    }
   ],
   "source": [
    "reg_model.score(X.values, y.values)"
   ]
  },
  {
   "cell_type": "code",
   "execution_count": 50,
   "id": "86f39038",
   "metadata": {},
   "outputs": [],
   "source": [
    "# With Sklearn LabelEncoder and OneHotEncoder()\n",
    "from sklearn.preprocessing import LabelEncoder\n",
    "le = LabelEncoder()\n",
    "dfle = df\n",
    "dfle.town = le.fit_transform(dfle.town)\n",
    "X = dfle[['town', 'area']].values\n",
    "y = dfle.price"
   ]
  },
  {
   "cell_type": "code",
   "execution_count": 51,
   "id": "072852b6",
   "metadata": {},
   "outputs": [
    {
     "data": {
      "text/plain": [
       "array([[0.0e+00, 0.0e+00, 2.6e+03],\n",
       "       [0.0e+00, 0.0e+00, 3.0e+03],\n",
       "       [0.0e+00, 0.0e+00, 3.2e+03],\n",
       "       [0.0e+00, 0.0e+00, 3.6e+03],\n",
       "       [0.0e+00, 0.0e+00, 4.0e+03],\n",
       "       [0.0e+00, 1.0e+00, 2.6e+03],\n",
       "       [0.0e+00, 1.0e+00, 2.8e+03],\n",
       "       [0.0e+00, 1.0e+00, 3.3e+03],\n",
       "       [0.0e+00, 1.0e+00, 3.6e+03],\n",
       "       [1.0e+00, 0.0e+00, 2.6e+03],\n",
       "       [1.0e+00, 0.0e+00, 2.9e+03],\n",
       "       [1.0e+00, 0.0e+00, 3.1e+03],\n",
       "       [1.0e+00, 0.0e+00, 3.6e+03]])"
      ]
     },
     "execution_count": 51,
     "metadata": {},
     "output_type": "execute_result"
    }
   ],
   "source": [
    "from sklearn.preprocessing import OneHotEncoder\n",
    "from sklearn.compose import ColumnTransformer\n",
    "ct = ColumnTransformer(\n",
    "    [('one_hot_encoder', OneHotEncoder(categories='auto'), [0])],\n",
    "    remainder='passthrough' \n",
    ")\n",
    "X = ct.fit_transform(X)\n",
    "X = X[:, 1:]"
   ]
  },
  {
   "cell_type": "code",
   "execution_count": 52,
   "id": "61a9c0fa",
   "metadata": {},
   "outputs": [
    {
     "data": {
      "text/plain": [
       "LinearRegression()"
      ]
     },
     "execution_count": 52,
     "metadata": {},
     "output_type": "execute_result"
    }
   ],
   "source": [
    "reg_model.fit(X, y)"
   ]
  },
  {
   "cell_type": "code",
   "execution_count": 53,
   "id": "c3bdd7d2",
   "metadata": {},
   "outputs": [
    {
     "data": {
      "text/plain": [
       "array([25686.4115244 , 40013.97548914,   126.89744141])"
      ]
     },
     "execution_count": 53,
     "metadata": {},
     "output_type": "execute_result"
    }
   ],
   "source": [
    "reg_model.coef_"
   ]
  },
  {
   "cell_type": "code",
   "execution_count": 54,
   "id": "29d57145",
   "metadata": {},
   "outputs": [
    {
     "data": {
      "text/plain": [
       "array([666914.10449366])"
      ]
     },
     "execution_count": 54,
     "metadata": {},
     "output_type": "execute_result"
    }
   ],
   "source": [
    "reg_model.predict([[1, 0, 3400]])"
   ]
  },
  {
   "cell_type": "code",
   "execution_count": 56,
   "id": "c5f1c6d4",
   "metadata": {},
   "outputs": [
    {
     "data": {
      "text/plain": [
       "0.9573929037221874"
      ]
     },
     "execution_count": 56,
     "metadata": {},
     "output_type": "execute_result"
    }
   ],
   "source": [
    "reg_model.score(X, y)"
   ]
  },
  {
   "cell_type": "markdown",
   "id": "869dc47b",
   "metadata": {},
   "source": [
    "# Exercise"
   ]
  },
  {
   "cell_type": "code",
   "execution_count": 106,
   "id": "ffc8d953",
   "metadata": {},
   "outputs": [],
   "source": [
    "dfle = pd.read_csv('Exercise/carprices.csv')\n",
    "from sklearn.preprocessing import LabelEncoder, OneHotEncoder\n",
    "from sklearn.compose import ColumnTransformer\n",
    "df = dfle.copy()\n",
    "df['Car Model'] = LabelEncoder().fit_transform(df['Car Model'])\n",
    "new_X = df[['Car Model', 'Mileage', 'Age(yrs)']].values\n",
    "new_y = df['Sell Price($)']"
   ]
  },
  {
   "cell_type": "code",
   "execution_count": 110,
   "id": "a90b184b",
   "metadata": {},
   "outputs": [
    {
     "data": {
      "text/plain": [
       "array([-4.28466659e+03,  6.73820733e+03, -3.70122094e-01, -1.33245363e+03])"
      ]
     },
     "execution_count": 110,
     "metadata": {},
     "output_type": "execute_result"
    }
   ],
   "source": [
    "col_trans = ColumnTransformer([('one_hot_encoder', OneHotEncoder(categories = 'auto'), [0])], remainder = 'passthrough')\n",
    "new_X = col_trans.fit_transform(new_X)\n",
    "\n",
    "import numpy as np\n",
    "from sklearn.linear_model import LinearRegression\n",
    "\n",
    "new_X = np.delete(new_X, 1, 1)\n",
    "reg_model = LinearRegression().fit(new_X, new_y)"
   ]
  },
  {
   "cell_type": "code",
   "execution_count": 117,
   "id": "509456cb",
   "metadata": {},
   "outputs": [
    {
     "data": {
      "text/plain": [
       "array([-1.14527753e+08])"
      ]
     },
     "execution_count": 117,
     "metadata": {},
     "output_type": "execute_result"
    }
   ],
   "source": [
    "reg_model.predict([[0,0, 4, 45000]])\n",
    "reg_model.predict([[0, 1, 7, 86000]])"
   ]
  },
  {
   "cell_type": "code",
   "execution_count": 115,
   "id": "add2f662",
   "metadata": {},
   "outputs": [
    {
     "data": {
      "text/plain": [
       "0.9417050937281083"
      ]
     },
     "execution_count": 115,
     "metadata": {},
     "output_type": "execute_result"
    }
   ],
   "source": [
    "reg_model.score(new_X, new_y)"
   ]
  },
  {
   "cell_type": "code",
   "execution_count": null,
   "id": "277b26a0",
   "metadata": {},
   "outputs": [],
   "source": []
  }
 ],
 "metadata": {
  "kernelspec": {
   "display_name": "Python 3 (ipykernel)",
   "language": "python",
   "name": "python3"
  },
  "language_info": {
   "codemirror_mode": {
    "name": "ipython",
    "version": 3
   },
   "file_extension": ".py",
   "mimetype": "text/x-python",
   "name": "python",
   "nbconvert_exporter": "python",
   "pygments_lexer": "ipython3",
   "version": "3.9.12"
  }
 },
 "nbformat": 4,
 "nbformat_minor": 5
}
