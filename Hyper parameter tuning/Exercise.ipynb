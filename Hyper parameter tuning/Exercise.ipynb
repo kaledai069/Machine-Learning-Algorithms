{
 "cells": [
  {
   "cell_type": "code",
   "execution_count": 17,
   "id": "0b2a2dbe",
   "metadata": {},
   "outputs": [],
   "source": [
    "from sklearn.svm import SVC\n",
    "from sklearn.ensemble import RandomForestClassifier\n",
    "from sklearn.linear_model import LogisticRegression\n",
    "from sklearn.naive_bayes import GaussianNB, MultinomialNB\n",
    "from sklearn.tree import DecisionTreeClassifier\n",
    "from sklearn.model_selection import GridSearchCV, RandomizedSearchCV, train_test_split, cross_val_score\n",
    "from sklearn.datasets import load_digits\n",
    "import pandas as pd\n",
    "import numpy as np"
   ]
  },
  {
   "cell_type": "code",
   "execution_count": 18,
   "id": "35501d36",
   "metadata": {},
   "outputs": [],
   "source": [
    "digits = load_digits()\n",
    "df = pd.DataFrame(digits.data, columns = digits.feature_names)"
   ]
  },
  {
   "cell_type": "code",
   "execution_count": 19,
   "id": "67c89f33",
   "metadata": {},
   "outputs": [],
   "source": [
    "inputs = df.copy()\n",
    "target = digits.target"
   ]
  },
  {
   "cell_type": "code",
   "execution_count": 30,
   "id": "f029bd97",
   "metadata": {},
   "outputs": [],
   "source": [
    "model_params = {\n",
    "    'svm' : {\n",
    "    'model' : SVC(gamma = 'auto'),\n",
    "    'params' : {\n",
    "        'C' : range(1, 30),\n",
    "        'kernel' : ['rbf', 'linear', 'sigmoid', 'poly']\n",
    "        }\n",
    "    },\n",
    "    'random_forest' : {\n",
    "        'model' : RandomForestClassifier(), \n",
    "        'params' : {\n",
    "            'n_estimators' : range(1, 10)\n",
    "        }\n",
    "    },\n",
    "    'logistic_regression' : {\n",
    "        'model' : LogisticRegression(solver = 'liblinear', multi_class = 'auto'),\n",
    "        'params' : {\n",
    "            'C' : range(1, 10)\n",
    "        }\n",
    "    }, \n",
    "#     'gaussian_NB' : {\n",
    "#         'model' : GaussianNB(),\n",
    "#         'params' : {\n",
    "#             'var_smoothing' : [1e-9]\n",
    "#         }\n",
    "#     }, \n",
    "#     'multinomial_NB' : {\n",
    "#         'model' : MultinomialNB(), \n",
    "#         'params' : {\n",
    "#             'alpha' : np.arange(0.5, 1, 0.1)\n",
    "#         }\n",
    "#     },\n",
    "#     'decision_tree' : {\n",
    "#         'model' : DecisionTreeClassifier(),\n",
    "#         'params' : {\n",
    "#             'min_samples_split' : ['auto', 'sqrt', 'log2']\n",
    "#         }\n",
    "#     }\n",
    "    \n",
    "}"
   ]
  },
  {
   "cell_type": "code",
   "execution_count": 31,
   "id": "d9220c60",
   "metadata": {},
   "outputs": [],
   "source": [
    "scores = []\n",
    "for model_name, mp in model_params.items():\n",
    "    clf = GridSearchCV(mp['model'], mp['params'], cv = 5, return_train_score = False)\n",
    "    clf.fit(inputs, target)\n",
    "    scores.append({\n",
    "        'model' : model_name,\n",
    "        'best_score' : clf.best_score_,\n",
    "        'best_params' : clf.best_params_\n",
    "    })"
   ]
  },
  {
   "cell_type": "code",
   "execution_count": 32,
   "id": "c2884bcd",
   "metadata": {},
   "outputs": [
    {
     "data": {
      "text/plain": [
       "[{'model': 'svm',\n",
       "  'best_score': 0.96884246363355,\n",
       "  'best_params': {'C': 1, 'kernel': 'poly'}},\n",
       " {'model': 'random_forest',\n",
       "  'best_score': 0.8937356855462705,\n",
       "  'best_params': {'n_estimators': 9}},\n",
       " {'model': 'logistic_regression',\n",
       "  'best_score': 0.9221138966264315,\n",
       "  'best_params': {'C': 1}}]"
      ]
     },
     "execution_count": 32,
     "metadata": {},
     "output_type": "execute_result"
    }
   ],
   "source": [
    "scores"
   ]
  },
  {
   "cell_type": "markdown",
   "id": "10f2a94e",
   "metadata": {},
   "source": [
    "1     svm -->   0.992045\t{'C': 10, 'gamma': 'scale', 'kernel': 'rbf', '...\n",
    "2\trandom_forest -->\t0.994435\t{'criterion': 'gini', 'n_estimators': 100}\n",
    "3\tlogistic_regression -->\t0.980114\t{'C': 1, 'multi_class': 'auto', 'penalty': 'l1...\n",
    "4\tGaussianNB-->\t0.995225\t{}\n",
    "5\tDecisionTreeClassifier -->\t1.000000\t{'criterion': 'gini', 'splitter': 'best'}"
   ]
  }
 ],
 "metadata": {
  "kernelspec": {
   "display_name": "Python 3 (ipykernel)",
   "language": "python",
   "name": "python3"
  },
  "language_info": {
   "codemirror_mode": {
    "name": "ipython",
    "version": 3
   },
   "file_extension": ".py",
   "mimetype": "text/x-python",
   "name": "python",
   "nbconvert_exporter": "python",
   "pygments_lexer": "ipython3",
   "version": "3.9.12"
  }
 },
 "nbformat": 4,
 "nbformat_minor": 5
}
